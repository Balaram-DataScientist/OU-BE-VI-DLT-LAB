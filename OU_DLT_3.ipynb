{
  "metadata": {
    "kernelspec": {
      "language": "python",
      "display_name": "Python 3",
      "name": "python3"
    },
    "language_info": {
      "name": "python",
      "version": "3.7.10",
      "mimetype": "text/x-python",
      "codemirror_mode": {
        "name": "ipython",
        "version": 3
      },
      "pygments_lexer": "ipython3",
      "nbconvert_exporter": "python",
      "file_extension": ".py"
    },
    "kaggle": {
      "accelerator": "none",
      "dataSources": [
        {
          "sourceId": 420,
          "sourceType": "datasetVersion",
          "datasetId": 19
        }
      ],
      "dockerImageVersionId": 30129,
      "isInternetEnabled": true,
      "language": "python",
      "sourceType": "notebook",
      "isGpuEnabled": false
    },
    "colab": {
      "provenance": [],
      "include_colab_link": true
    }
  },
  "nbformat_minor": 0,
  "nbformat": 4,
  "cells": [
    {
      "cell_type": "markdown",
      "metadata": {
        "id": "view-in-github",
        "colab_type": "text"
      },
      "source": [
        "<a href=\"https://colab.research.google.com/github/Balaram-DataScientist/OU-BE-VI-DLT-LAB/blob/Lab-3/OU_DLT_3.ipynb\" target=\"_parent\"><img src=\"https://colab.research.google.com/assets/colab-badge.svg\" alt=\"Open In Colab\"/></a>"
      ]
    },
    {
      "cell_type": "markdown",
      "source": [
        "#**NGIT/KMEC-OU-DLT-3**\n",
        "**Design single unit perceptron for classification of iris dataset without using pre-defined models.**\n",
        "\n",
        "Dataset: https://drive.google.com/file/d/1l5KZvpUpTaoc-2smrJCTJpRCZn8DrSZ_/view?usp=sharing\n",
        "\n",
        "References:\n",
        "\n",
        "https://pub.towardsai.net/nothing-but-numpy-understanding-creating-neural-networks-with-computational-graphs-from-scratch-6299901091b0"
      ],
      "metadata": {
        "id": "UChqAzChqH9x"
      }
    },
    {
      "cell_type": "code",
      "source": [
        "#Importing required libraries\n",
        "\n",
        "import numpy as np # linear algebra\n",
        "import pandas as pd # data processing, CSV file I/O (e.g. pd.read_csv)\n",
        "import os"
      ],
      "metadata": {
        "_uuid": "8f2839f25d086af736a60e9eeb907d3b93b6e0e5",
        "_cell_guid": "b1076dfc-b9ad-4769-8c92-a6c4dae69d19",
        "execution": {
          "iopub.status.busy": "2022-12-16T02:32:14.430228Z",
          "iopub.execute_input": "2022-12-16T02:32:14.430637Z",
          "iopub.status.idle": "2022-12-16T02:32:14.436083Z",
          "shell.execute_reply.started": "2022-12-16T02:32:14.430584Z",
          "shell.execute_reply": "2022-12-16T02:32:14.434938Z"
        },
        "trusted": true,
        "id": "QyzKLXqaqH94"
      },
      "execution_count": null,
      "outputs": []
    },
    {
      "cell_type": "code",
      "source": [
        "from google.colab import drive\n",
        "drive.mount('/content/drive')"
      ],
      "metadata": {
        "colab": {
          "base_uri": "https://localhost:8080/"
        },
        "id": "Dw3UvOsTvZFn",
        "outputId": "10b0e632-4d8f-4d52-969c-008ea72ef0f1"
      },
      "execution_count": null,
      "outputs": [
        {
          "output_type": "stream",
          "name": "stdout",
          "text": [
            "Drive already mounted at /content/drive; to attempt to forcibly remount, call drive.mount(\"/content/drive\", force_remount=True).\n"
          ]
        }
      ]
    },
    {
      "cell_type": "code",
      "source": [
        "#Read Dataset into dataframe and preprocess\n",
        "\n",
        "data = pd.read_csv('/content/drive/MyDrive/NGIT/Deep Learning Techniques/LAB/Datasets/dlt_3/Iris.csv')\n",
        "#Convert target from object to category\n",
        "data.Species = data.Species.astype('category')\n",
        "data['iris_cat']=data.Species.cat.codes\n",
        "\n",
        "data=data[data.iris_cat<2]\n",
        "data.shape"
      ],
      "metadata": {
        "execution": {
          "iopub.status.busy": "2022-12-16T02:32:14.449616Z",
          "iopub.execute_input": "2022-12-16T02:32:14.449903Z",
          "iopub.status.idle": "2022-12-16T02:32:14.467183Z",
          "shell.execute_reply.started": "2022-12-16T02:32:14.449873Z",
          "shell.execute_reply": "2022-12-16T02:32:14.466278Z"
        },
        "trusted": true,
        "colab": {
          "base_uri": "https://localhost:8080/"
        },
        "id": "hC44xRa-qH95",
        "outputId": "a29df7e0-bf63-46ac-cde5-a67b5dc76b86"
      },
      "execution_count": null,
      "outputs": [
        {
          "output_type": "execute_result",
          "data": {
            "text/plain": [
              "(100, 7)"
            ]
          },
          "metadata": {},
          "execution_count": 111
        }
      ]
    },
    {
      "cell_type": "code",
      "source": [
        "# Splitting Dataset into train and test\n",
        "\n",
        "from sklearn.model_selection import train_test_split\n",
        "data1=data[['PetalLengthCm', 'PetalWidthCm','SepalLengthCm','SepalWidthCm', 'iris_cat']]\n",
        "print(data1.head())\n",
        "x_train, x_test, y_train, y_test = train_test_split(data1[['PetalLengthCm', 'PetalWidthCm']],data1['iris_cat'], test_size=0.3,shuffle=True)\n",
        "\n",
        "X_train = np.array(x_train.T)\n",
        "Y_train = np.array(y_train).reshape(1,-1)\n",
        "X_train.shape,Y_train.shape\n",
        "Y_train\n",
        "print(type(X_train),X_train.shape)"
      ],
      "metadata": {
        "execution": {
          "iopub.status.busy": "2022-12-16T02:32:14.471851Z",
          "iopub.execute_input": "2022-12-16T02:32:14.472610Z",
          "iopub.status.idle": "2022-12-16T02:32:14.493465Z",
          "shell.execute_reply.started": "2022-12-16T02:32:14.472566Z",
          "shell.execute_reply": "2022-12-16T02:32:14.492621Z"
        },
        "trusted": true,
        "colab": {
          "base_uri": "https://localhost:8080/"
        },
        "id": "yddWPAnKqH95",
        "outputId": "05686658-338f-49c0-c0c7-6bd543b87643"
      },
      "execution_count": null,
      "outputs": [
        {
          "output_type": "stream",
          "name": "stdout",
          "text": [
            "   PetalLengthCm  PetalWidthCm  SepalLengthCm  SepalWidthCm  iris_cat\n",
            "0            1.4           0.2            5.1           3.5         0\n",
            "1            1.4           0.2            4.9           3.0         0\n",
            "2            1.3           0.2            4.7           3.2         0\n",
            "3            1.5           0.2            4.6           3.1         0\n",
            "4            1.4           0.2            5.0           3.6         0\n",
            "<class 'numpy.ndarray'> (2, 70)\n"
          ]
        }
      ]
    },
    {
      "cell_type": "code",
      "source": [
        "#Define required methods for Artificial Neural Networks\n",
        "def initialize_parameters(n_in, n_out, ini_type='plain'):\n",
        "    \"\"\"\n",
        "    Helper function to initialize some form of random weights and Zero biases\n",
        "    Args:\n",
        "        n_in: size of input layer\n",
        "        n_out: size of output/number of neurons\n",
        "        ini_type: set initialization type for weights\n",
        "    Returns:\n",
        "        params: a dictionary containing W and b\n",
        "    \"\"\"\n",
        "\n",
        "    params = dict()  # initialize empty dictionary of neural net parameters W and b\n",
        "\n",
        "    params['W'] = np.random.randn(n_out, n_in) *0.01  # set weights 'W' to small random gaussian\n",
        "    params['b'] = np.zeros((n_out, 1))    # set bias 'b' to zeros\n",
        "\n",
        "    return params"
      ],
      "metadata": {
        "execution": {
          "iopub.status.busy": "2022-12-16T02:32:14.495228Z",
          "iopub.execute_input": "2022-12-16T02:32:14.496190Z",
          "iopub.status.idle": "2022-12-16T02:32:14.502465Z",
          "shell.execute_reply.started": "2022-12-16T02:32:14.496147Z",
          "shell.execute_reply": "2022-12-16T02:32:14.501889Z"
        },
        "trusted": true,
        "id": "N9sWbECAqH96"
      },
      "execution_count": null,
      "outputs": []
    },
    {
      "cell_type": "code",
      "source": [
        "class LinearLayer:\n",
        "    \"\"\"\n",
        "        This Class implements all functions to be executed by a linear layer\n",
        "        in a computational graph\n",
        "        Args:\n",
        "            input_shape: input shape of Data/Activations\n",
        "            n_out: number of neurons in layer\n",
        "            ini_type: initialization type for weight parameters, default is \"plain\"\n",
        "                      Opitons are: plain, xavier and he\n",
        "        Methods:\n",
        "            forward(A_prev)\n",
        "            backward(upstream_grad)\n",
        "            update_params(learning_rate)\n",
        "    \"\"\"\n",
        "\n",
        "    def __init__(self, input_shape, n_out, ini_type=\"plain\"):\n",
        "        \"\"\"\n",
        "        The constructor of the LinearLayer takes the following parameters\n",
        "        Args:\n",
        "            input_shape: input shape of Data/Activations\n",
        "            n_out: number of neurons in layer\n",
        "            ini_type: initialization type for weight parameters, default is \"plain\"\n",
        "        \"\"\"\n",
        "\n",
        "        self.m = input_shape[1]  # number of examples in training data\n",
        "        # `params` store weights and bias in a python dictionary\n",
        "        self.params = initialize_parameters(input_shape[0], n_out, ini_type)  # initialize weights and bias\n",
        "        self.Z = np.zeros((self.params['W'].shape[0], input_shape[1]))  # create space for resultant Z output\n",
        "\n",
        "    def forward(self, A_prev):\n",
        "        \"\"\"\n",
        "        This function performs the forwards propagation using activations from previous layer\n",
        "        Args:\n",
        "            A_prev:  Activations/Input Data coming into the layer from previous layer\n",
        "        \"\"\"\n",
        "\n",
        "        self.A_prev = A_prev  # store the Activations/Training Data coming in\n",
        "        self.Z = np.dot(self.params['W'], self.A_prev) + self.params['b']  # compute the linear function\n",
        "\n",
        "    def backward(self, upstream_grad):\n",
        "        \"\"\"\n",
        "        This function performs the back propagation using upstream gradients\n",
        "        Args:\n",
        "            upstream_grad: gradient coming in from the upper layer to couple with local gradient\n",
        "        \"\"\"\n",
        "\n",
        "        # derivative of Cost w.r.t W\n",
        "        self.dW = np.dot(upstream_grad, self.A_prev.T)\n",
        "\n",
        "        # derivative of Cost w.r.t b, sum across rows\n",
        "        self.db = np.sum(upstream_grad, axis=1, keepdims=True)\n",
        "\n",
        "        # derivative of Cost w.r.t A_prev\n",
        "        self.dA_prev = np.dot(self.params['W'].T, upstream_grad)\n",
        "\n",
        "    def update_params(self, learning_rate=0.1):\n",
        "        \"\"\"\n",
        "        This function performs the gradient descent update\n",
        "        Args:\n",
        "            learning_rate: learning rate hyper-param for gradient descent, default 0.1\n",
        "        \"\"\"\n",
        "\n",
        "        self.params['W'] = self.params['W'] - learning_rate * self.dW  # update weights\n",
        "        self.params['b'] = self.params['b'] - learning_rate * self.db  # update bias(es)"
      ],
      "metadata": {
        "execution": {
          "iopub.status.busy": "2022-12-16T02:32:14.509859Z",
          "iopub.execute_input": "2022-12-16T02:32:14.510293Z",
          "iopub.status.idle": "2022-12-16T02:32:14.521572Z",
          "shell.execute_reply.started": "2022-12-16T02:32:14.510251Z",
          "shell.execute_reply": "2022-12-16T02:32:14.520836Z"
        },
        "trusted": true,
        "id": "2XRH7g4nqH96"
      },
      "execution_count": null,
      "outputs": []
    },
    {
      "cell_type": "code",
      "source": [
        "class SigmoidLayer:\n",
        "    \"\"\"\n",
        "    This file implements activation layers\n",
        "    inline with a computational graph model\n",
        "    Args:\n",
        "        shape: shape of input to the layer\n",
        "    Methods:\n",
        "        forward(Z)\n",
        "        backward(upstream_grad)\n",
        "    \"\"\"\n",
        "\n",
        "    def __init__(self, shape):\n",
        "        \"\"\"\n",
        "        The consturctor of the sigmoid/logistic activation layer takes in the following arguments\n",
        "        Args:\n",
        "            shape: shape of input to the layer\n",
        "        \"\"\"\n",
        "        self.A = np.zeros(shape)  # create space for the resultant activations\n",
        "\n",
        "    def forward(self, Z):\n",
        "        \"\"\"\n",
        "        This function performs the forwards propagation step through the activation function\n",
        "        Args:\n",
        "            Z: input from previous (linear) layer\n",
        "        \"\"\"\n",
        "        self.A = 1 / (1 + np.exp(-Z))  # compute activations\n",
        "\n",
        "    def backward(self, upstream_grad):\n",
        "        \"\"\"\n",
        "        This function performs the  back propagation step through the activation function\n",
        "        Local gradient => derivative of sigmoid => A*(1-A)\n",
        "        Args:\n",
        "            upstream_grad: gradient coming into this layer from the layer above\n",
        "        \"\"\"\n",
        "        # couple upstream gradient with local gradient, the result will be sent back to the Linear layer\n",
        "        self.dZ = upstream_grad * self.A*(1-self.A)"
      ],
      "metadata": {
        "execution": {
          "iopub.status.busy": "2022-12-16T02:32:14.526043Z",
          "iopub.execute_input": "2022-12-16T02:32:14.526700Z",
          "iopub.status.idle": "2022-12-16T02:32:14.538296Z",
          "shell.execute_reply.started": "2022-12-16T02:32:14.526654Z",
          "shell.execute_reply": "2022-12-16T02:32:14.537174Z"
        },
        "trusted": true,
        "id": "U6khQW7uqH96"
      },
      "execution_count": null,
      "outputs": []
    },
    {
      "cell_type": "code",
      "source": [
        "import numpy as np\n",
        "\n",
        "\"\"\"\n",
        "Contains a bunch of Cost functions.\n",
        "This file implementations of :\n",
        "    - Binary Cross_entropy Cost function\n",
        "        * compute_binary_cost(Y, P_hat) -> \"unstable\"\n",
        "        * compute_stable_bce_cost(Y, Z) -> \"stable\"\n",
        "        * computer_keras_like_bce_cost(Y, P_hat, from_logits=False) -> stable\n",
        "    - Mean Squared Error Cost function\n",
        "\"\"\"\n",
        "\n",
        "\n",
        "def compute_bce_cost(Y, P_hat):\n",
        "    \"\"\"\n",
        "    This function computes Binary Cross-Entropy(bce) Cost and returns the Cost and its\n",
        "    derivative.\n",
        "    This function uses the following Binary Cross-Entropy Cost defined as:\n",
        "    => (1/m) * np.sum(-Y*np.log(P_hat) - (1-Y)*np.log(1-P_hat))\n",
        "    Args:\n",
        "        Y: labels of data\n",
        "        P_hat: Estimated output probabilities from the last layer, the output layer\n",
        "    Returns:\n",
        "        cost: The Binary Cross-Entropy Cost result\n",
        "        dP_hat: gradient of Cost w.r.t P_hat\n",
        "    \"\"\"\n",
        "    m = Y.shape[1]  # m -> number of examples in the batch\n",
        "\n",
        "    cost = (1/m) * np.sum(-Y*np.log(P_hat) - (1-Y)*np.log(1-P_hat))\n",
        "    cost = np.squeeze(cost)  # remove extraneous dimensions to give just a scalar (e.g. this turns [[17]] into 17)\n",
        "\n",
        "    dP_hat = (1/m) * (-(Y/P_hat) + ((1-Y)/(1-P_hat)))\n",
        "\n",
        "    return cost, dP_hat\n",
        "\n",
        "\n",
        "\n"
      ],
      "metadata": {
        "execution": {
          "iopub.status.busy": "2022-12-16T02:32:14.548960Z",
          "iopub.execute_input": "2022-12-16T02:32:14.549253Z",
          "iopub.status.idle": "2022-12-16T02:32:14.559136Z",
          "shell.execute_reply.started": "2022-12-16T02:32:14.549219Z",
          "shell.execute_reply": "2022-12-16T02:32:14.558067Z"
        },
        "trusted": true,
        "id": "SZFIVmSHqH96"
      },
      "execution_count": null,
      "outputs": []
    },
    {
      "cell_type": "code",
      "source": [
        "Y_train.shape"
      ],
      "metadata": {
        "execution": {
          "iopub.status.busy": "2022-12-16T02:32:14.577390Z",
          "iopub.execute_input": "2022-12-16T02:32:14.577715Z",
          "iopub.status.idle": "2022-12-16T02:32:14.584673Z",
          "shell.execute_reply.started": "2022-12-16T02:32:14.577680Z",
          "shell.execute_reply": "2022-12-16T02:32:14.583447Z"
        },
        "trusted": true,
        "colab": {
          "base_uri": "https://localhost:8080/"
        },
        "id": "hkWfJOr9qH96",
        "outputId": "4fec3b88-e3f9-4285-ad15-f01f396b3fb4"
      },
      "execution_count": null,
      "outputs": [
        {
          "output_type": "execute_result",
          "data": {
            "text/plain": [
              "(1, 70)"
            ]
          },
          "metadata": {},
          "execution_count": 117
        }
      ]
    },
    {
      "cell_type": "code",
      "source": [
        "X_train.shape"
      ],
      "metadata": {
        "execution": {
          "iopub.status.busy": "2022-12-16T02:32:14.589413Z",
          "iopub.execute_input": "2022-12-16T02:32:14.589788Z",
          "iopub.status.idle": "2022-12-16T02:32:14.598039Z",
          "shell.execute_reply.started": "2022-12-16T02:32:14.589745Z",
          "shell.execute_reply": "2022-12-16T02:32:14.596775Z"
        },
        "trusted": true,
        "colab": {
          "base_uri": "https://localhost:8080/"
        },
        "id": "_C5DTleZqH96",
        "outputId": "df9a7287-c965-4850-cd36-e7f1dd3458e6"
      },
      "execution_count": null,
      "outputs": [
        {
          "output_type": "execute_result",
          "data": {
            "text/plain": [
              "(2, 70)"
            ]
          },
          "metadata": {},
          "execution_count": 118
        }
      ]
    },
    {
      "cell_type": "markdown",
      "source": [
        "1 hidden layer"
      ],
      "metadata": {
        "id": "LLOiYGRYqH96"
      }
    },
    {
      "cell_type": "code",
      "source": [
        "# define training constants\n",
        "learning_rate = 1\n",
        "number_of_epochs = 10000\n",
        "\n",
        "np.random.seed(48) # set seed value so that the results are reproduceable\n",
        "                   # (weights will now be initailzaed to the same pseudo-random numbers, each time)\n",
        "\n",
        "# Our network architecture has the shape:\n",
        "#                       (input)--> [Linear->Sigmoid] -->(output)\n",
        "\n",
        "\n",
        "#------ LAYER-1 ----- define output layer that takes in training data\n",
        "Z1 = LinearLayer(input_shape=X_train.shape, n_out=4, ini_type='plain')\n",
        "A1 = SigmoidLayer(Z1.Z.shape)\n",
        "Z2 = LinearLayer(input_shape=A1.A.shape, n_out=1, ini_type='plain')\n",
        "A2 = SigmoidLayer(Z2.Z.shape)"
      ],
      "metadata": {
        "execution": {
          "iopub.status.busy": "2022-12-16T02:32:14.604463Z",
          "iopub.execute_input": "2022-12-16T02:32:14.604801Z",
          "iopub.status.idle": "2022-12-16T02:32:14.611406Z",
          "shell.execute_reply.started": "2022-12-16T02:32:14.604749Z",
          "shell.execute_reply": "2022-12-16T02:32:14.610630Z"
        },
        "trusted": true,
        "id": "A4Ybqr7RqH96"
      },
      "execution_count": null,
      "outputs": []
    },
    {
      "cell_type": "code",
      "source": [
        "costs = []  # initially empty list, this will store all the costs after a certain number of epochs\n",
        "\n",
        "# Start training\n",
        "for epoch in range(number_of_epochs): #number_of_epochs):\n",
        "\n",
        "    # ------------------------- forward-prop -------------------------\n",
        "    Z1.forward(X_train)\n",
        "    A1.forward(Z1.Z)\n",
        "    Z2.forward(A1.A)\n",
        "    A2.forward(Z2.Z)\n",
        "    # ---------------------- Compute Cost ----------------------------\n",
        "    #cost, dZ2 = compute_stable_bce_cost(Y_train, Z2.Z)\n",
        "    #cost, dA2 = compute_stable_bce_cost(Y_train, A2.A)\n",
        "    cost, dA2 = compute_bce_cost(Y_train, A2.A)\n",
        "\n",
        "    # print and store Costs every 100 iterations and of the last iteration.\n",
        "    if (epoch % 100) == 0 or epoch == number_of_epochs - 1:\n",
        "        print(\"Cost at epoch#{}: {}\".format(epoch, cost))\n",
        "        costs.append(cost)\n",
        "\n",
        "    # ------------------------- back-prop ----------------------------\n",
        "    A2.backward(dA2)\n",
        "    Z2.backward(A2.dZ)\n",
        "    A1.backward(Z2.dA_prev)\n",
        "    Z1.backward(A1.dZ)\n",
        "\n",
        "    # ----------------------- Update weights and bias ----------------\n",
        "    Z2.update_params(learning_rate=learning_rate)\n",
        "    Z1.update_params(learning_rate=learning_rate)"
      ],
      "metadata": {
        "execution": {
          "iopub.status.busy": "2022-12-16T02:32:14.620365Z",
          "iopub.execute_input": "2022-12-16T02:32:14.620710Z",
          "iopub.status.idle": "2022-12-16T02:32:15.897571Z",
          "shell.execute_reply.started": "2022-12-16T02:32:14.620673Z",
          "shell.execute_reply": "2022-12-16T02:32:15.896378Z"
        },
        "trusted": true,
        "colab": {
          "base_uri": "https://localhost:8080/"
        },
        "id": "9dRPXc3jqH97",
        "outputId": "dbc07a09-e0ed-4a19-fcf8-7023ad5815dc"
      },
      "execution_count": null,
      "outputs": [
        {
          "output_type": "stream",
          "name": "stdout",
          "text": [
            "Cost at epoch#0: 0.6935376386867353\n",
            "Cost at epoch#100: 0.062155673145491426\n",
            "Cost at epoch#200: 0.017754194021361008\n",
            "Cost at epoch#300: 0.009729413282492482\n",
            "Cost at epoch#400: 0.006575129723727899\n",
            "Cost at epoch#500: 0.004921694537515372\n",
            "Cost at epoch#600: 0.003913054944713553\n",
            "Cost at epoch#700: 0.0032371514750538007\n",
            "Cost at epoch#800: 0.0027542946199801558\n",
            "Cost at epoch#900: 0.0023929684691011152\n",
            "Cost at epoch#1000: 0.002112903084193024\n",
            "Cost at epoch#1100: 0.0018897493748587053\n",
            "Cost at epoch#1200: 0.001707946757902936\n",
            "Cost at epoch#1300: 0.001557100500037924\n",
            "Cost at epoch#1400: 0.001430010101004786\n",
            "Cost at epoch#1500: 0.0013215343781689134\n",
            "Cost at epoch#1600: 0.0012279071137090687\n",
            "Cost at epoch#1700: 0.0011463079111733697\n",
            "Cost at epoch#1800: 0.0010745839284772873\n",
            "Cost at epoch#1900: 0.001011064142342407\n",
            "Cost at epoch#2000: 0.0009544321985542548\n",
            "Cost at epoch#2100: 0.0009036374056681413\n",
            "Cost at epoch#2200: 0.0008578311831062591\n",
            "Cost at epoch#2300: 0.000816320873109226\n",
            "Cost at epoch#2400: 0.0007785356330559745\n",
            "Cost at epoch#2500: 0.0007440008828321148\n",
            "Cost at epoch#2600: 0.0007123189089260786\n",
            "Cost at epoch#2700: 0.0006831539646415747\n",
            "Cost at epoch#2800: 0.0006562206979829772\n",
            "Cost at epoch#2900: 0.0006312750728845272\n",
            "Cost at epoch#3000: 0.0006081071799188195\n",
            "Cost at epoch#3100: 0.0005865354939342927\n",
            "Cost at epoch#3200: 0.0005664022505300251\n",
            "Cost at epoch#3300: 0.0005475696955104342\n",
            "Cost at epoch#3400: 0.0005299170212387268\n",
            "Cost at epoch#3500: 0.0005133378477363041\n",
            "Cost at epoch#3600: 0.000497738138982441\n",
            "Cost at epoch#3700: 0.0004830344693066154\n",
            "Cost at epoch#3800: 0.00046915257324381594\n",
            "Cost at epoch#3900: 0.00045602612631117067\n",
            "Cost at epoch#4000: 0.00044359571499228605\n",
            "Cost at epoch#4100: 0.00043180796259872586\n",
            "Cost at epoch#4200: 0.0004206147842135029\n",
            "Cost at epoch#4300: 0.0004099727490532874\n",
            "Cost at epoch#4400: 0.0003998425326366378\n",
            "Cost at epoch#4500: 0.0003901884443672731\n",
            "Cost at epoch#4600: 0.0003809780187131959\n",
            "Cost at epoch#4700: 0.000372181660230537\n",
            "Cost at epoch#4800: 0.00036377233435126884\n",
            "Cost at epoch#4900: 0.00035572529720794536\n",
            "Cost at epoch#5000: 0.00034801785887483806\n",
            "Cost at epoch#5100: 0.0003406291753091083\n",
            "Cost at epoch#5200: 0.0003335400650211243\n",
            "Cost at epoch#5300: 0.00032673284711650107\n",
            "Cost at epoch#5400: 0.0003201911978650223\n",
            "Cost at epoch#5500: 0.0003139000233731793\n",
            "Cost at epoch#5600: 0.0003078453462941672\n",
            "Cost at epoch#5700: 0.0003020142048051366\n",
            "Cost at epoch#5800: 0.0002963945623324691\n",
            "Cost at epoch#5900: 0.00029097522671599565\n",
            "Cost at epoch#6000: 0.00028574577768328746\n",
            "Cost at epoch#6100: 0.00028069650165490396\n",
            "Cost at epoch#6200: 0.00027581833303261054\n",
            "Cost at epoch#6300: 0.00027110280123162115\n",
            "Cost at epoch#6400: 0.00026654198281298537\n",
            "Cost at epoch#6500: 0.0002621284581533752\n",
            "Cost at epoch#6600: 0.00025785527215870375\n",
            "Cost at epoch#6700: 0.00025371589858919915\n",
            "Cost at epoch#6800: 0.00024970420761508735\n",
            "Cost at epoch#6900: 0.00024581443626683913\n",
            "Cost at epoch#7000: 0.00024204116148412213\n",
            "Cost at epoch#7100: 0.00023837927550067784\n",
            "Cost at epoch#7200: 0.00023482396333302934\n",
            "Cost at epoch#7300: 0.00023137068216631755\n",
            "Cost at epoch#7400: 0.00022801514245376705\n",
            "Cost at epoch#7500: 0.0002247532905659979\n",
            "Cost at epoch#7600: 0.0002215812928443096\n",
            "Cost at epoch#7700: 0.00021849552092728078\n",
            "Cost at epoch#7800: 0.00021549253823379324\n",
            "Cost at epoch#7900: 0.0002125690874979178\n",
            "Cost at epoch#8000: 0.00020972207926121103\n",
            "Cost at epoch#8100: 0.0002069485812381391\n",
            "Cost at epoch#8200: 0.00020424580847833602\n",
            "Cost at epoch#8300: 0.0002016111142569005\n",
            "Cost at epoch#8400: 0.00019904198163103338\n",
            "Cost at epoch#8500: 0.0001965360156065722\n",
            "Cost at epoch#8600: 0.0001940909358639036\n",
            "Cost at epoch#8700: 0.0001917045699974895\n",
            "Cost at epoch#8800: 0.00018937484722662012\n",
            "Cost at epoch#8900: 0.00018709979254049857\n",
            "Cost at epoch#9000: 0.0001848775212420888\n",
            "Cost at epoch#9100: 0.00018270623386036766\n",
            "Cost at epoch#9200: 0.00018058421140180428\n",
            "Cost at epoch#9300: 0.00017850981091493368\n",
            "Cost at epoch#9400: 0.0001764814613448806\n",
            "Cost at epoch#9500: 0.00017449765965506998\n",
            "Cost at epoch#9600: 0.00017255696719714408\n",
            "Cost at epoch#9700: 0.00017065800631015687\n",
            "Cost at epoch#9800: 0.00016879945713283288\n",
            "Cost at epoch#9900: 0.00016698005461298008\n",
            "Cost at epoch#9999: 0.0001652162164789664\n"
          ]
        }
      ]
    },
    {
      "cell_type": "code",
      "source": [
        "#Predict the labels for test dataset\n",
        "X_test = np.array(x_test.T)\n",
        "Y_test = np.array(y_test).reshape(1,-1)\n",
        "X_test.shape,Y_test.shape\n",
        "\n",
        "Z1.forward(X_test)\n",
        "A1.forward(Z1.Z)\n",
        "Z2.forward(A1.A)\n",
        "A2.forward(Z2.Z)\n",
        "predictions=A2.A.round(1)\n",
        "#predictions=predictions.clip(0,1)\n",
        "#predictions.dtype='int'\n",
        "predictions\n"
      ],
      "metadata": {
        "execution": {
          "iopub.status.busy": "2022-12-16T02:32:15.899302Z",
          "iopub.execute_input": "2022-12-16T02:32:15.899538Z",
          "iopub.status.idle": "2022-12-16T02:32:15.906533Z",
          "shell.execute_reply.started": "2022-12-16T02:32:15.899511Z",
          "shell.execute_reply": "2022-12-16T02:32:15.905653Z"
        },
        "trusted": true,
        "colab": {
          "base_uri": "https://localhost:8080/"
        },
        "id": "UtZRnR06qH97",
        "outputId": "96648d27-0a4e-422d-b470-f82f2e179f96"
      },
      "execution_count": null,
      "outputs": [
        {
          "output_type": "execute_result",
          "data": {
            "text/plain": [
              "array([[1., 1., 0., 1., 0., 1., 0., 0., 1., 1., 1., 1., 0., 1., 1., 1.,\n",
              "        1., 0., 0., 1., 1., 0., 0., 0., 1., 0., 0., 1., 1., 0.]])"
            ]
          },
          "metadata": {},
          "execution_count": 121
        }
      ]
    },
    {
      "cell_type": "code",
      "source": [
        "#original values of test dataset\n",
        "Y_test"
      ],
      "metadata": {
        "execution": {
          "iopub.status.busy": "2022-12-16T02:32:15.907675Z",
          "iopub.execute_input": "2022-12-16T02:32:15.907905Z",
          "iopub.status.idle": "2022-12-16T02:32:15.924599Z",
          "shell.execute_reply.started": "2022-12-16T02:32:15.907879Z",
          "shell.execute_reply": "2022-12-16T02:32:15.923448Z"
        },
        "trusted": true,
        "colab": {
          "base_uri": "https://localhost:8080/"
        },
        "id": "ScoZalCNqH97",
        "outputId": "2a4fdd91-e503-4bf6-ebcd-0e09411b209a"
      },
      "execution_count": null,
      "outputs": [
        {
          "output_type": "execute_result",
          "data": {
            "text/plain": [
              "array([[1, 1, 0, 1, 0, 1, 0, 0, 1, 1, 1, 1, 0, 1, 1, 1, 1, 0, 0, 1, 1, 0,\n",
              "        0, 0, 1, 0, 0, 1, 1, 0]], dtype=int8)"
            ]
          },
          "metadata": {},
          "execution_count": 122
        }
      ]
    },
    {
      "cell_type": "code",
      "source": [
        "#Find the accuracy for test data\n",
        "np.sum(np.equal(Y_test[0],predictions[0]))/Y_test.shape[1]\n"
      ],
      "metadata": {
        "colab": {
          "base_uri": "https://localhost:8080/"
        },
        "id": "wOatJTLe8o8t",
        "outputId": "d12882fe-f8df-4531-d164-30bfa34d8629"
      },
      "execution_count": null,
      "outputs": [
        {
          "output_type": "execute_result",
          "data": {
            "text/plain": [
              "1.0"
            ]
          },
          "metadata": {},
          "execution_count": 123
        }
      ]
    },
    {
      "cell_type": "code",
      "source": [],
      "metadata": {
        "id": "NwvsJbFS7_d_"
      },
      "execution_count": null,
      "outputs": []
    }
  ]
}