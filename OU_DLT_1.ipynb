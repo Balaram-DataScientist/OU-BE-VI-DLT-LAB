{
  "metadata": {
    "kernelspec": {
      "language": "python",
      "display_name": "Python 3",
      "name": "python3"
    },
    "language_info": {
      "name": "python",
      "version": "3.7.12",
      "mimetype": "text/x-python",
      "codemirror_mode": {
        "name": "ipython",
        "version": 3
      },
      "pygments_lexer": "ipython3",
      "nbconvert_exporter": "python",
      "file_extension": ".py"
    },
    "kaggle": {
      "accelerator": "none",
      "dataSources": [],
      "dockerImageVersionId": 30207,
      "isInternetEnabled": true,
      "language": "python",
      "sourceType": "notebook",
      "isGpuEnabled": false
    },
    "colab": {
      "provenance": [],
      "include_colab_link": true
    }
  },
  "nbformat_minor": 0,
  "nbformat": 4,
  "cells": [
    {
      "cell_type": "markdown",
      "metadata": {
        "id": "view-in-github",
        "colab_type": "text"
      },
      "source": [
        "<a href=\"https://colab.research.google.com/github/Balaram-DataScientist/OU-BE-VI-DLT-LAB/blob/Lab-1/OU_DLT_1.ipynb\" target=\"_parent\"><img src=\"https://colab.research.google.com/assets/colab-badge.svg\" alt=\"Open In Colab\"/></a>"
      ]
    },
    {
      "cell_type": "markdown",
      "source": [
        "# **NGIT/KMEC-OU-DLT-1**\n",
        "**Create Tensors  and perform basic operations with tensors**"
      ],
      "metadata": {
        "id": "wFX89wyBN0y8"
      }
    },
    {
      "cell_type": "code",
      "source": [
        "import tensorflow as tf\n",
        "print(\"TensorFlow version: {}\".format(tf.__version__))\n",
        "print(\"Eager execution is: {}\".format(tf.executing_eagerly()))        # https://www.tensorflow.org/guide/eager\n",
        "print(\"Keras version: {}\".format(tf.keras.__version__))"
      ],
      "metadata": {
        "id": "YZQCkKpLhmd4",
        "outputId": "f5f70e95-9a98-4cd1-8f37-37c624fb3ce4",
        "execution": {
          "iopub.status.busy": "2024-08-01T09:01:28.931595Z",
          "iopub.execute_input": "2024-08-01T09:01:28.932126Z",
          "iopub.status.idle": "2024-08-01T09:01:39.043250Z",
          "shell.execute_reply.started": "2024-08-01T09:01:28.932019Z",
          "shell.execute_reply": "2024-08-01T09:01:39.041863Z"
        },
        "trusted": true,
        "colab": {
          "base_uri": "https://localhost:8080/"
        }
      },
      "execution_count": null,
      "outputs": [
        {
          "output_type": "stream",
          "name": "stdout",
          "text": [
            "TensorFlow version: 2.17.0\n",
            "Eager execution is: True\n",
            "Keras version: 3.4.1\n"
          ]
        }
      ]
    },
    {
      "cell_type": "markdown",
      "source": [
        "checking wether GPU is available or not"
      ],
      "metadata": {
        "id": "fMR9fuOqisxx"
      }
    },
    {
      "cell_type": "code",
      "source": [
        "var = tf.Variable([3, 3])\n",
        "\n",
        "if tf.test.is_gpu_available():\n",
        "    print('Running on GPU')\n",
        "    print('GPU #0?')\n",
        "    print(var.device.endswith('GPU:0'))\n",
        "else:\n",
        "    print('Running on CPU')"
      ],
      "metadata": {
        "id": "UZ9dz729ifaO",
        "outputId": "cc679539-268b-4fa3-c67f-6a3bc1a826b5",
        "execution": {
          "iopub.status.busy": "2024-08-01T09:01:39.045477Z",
          "iopub.execute_input": "2024-08-01T09:01:39.046136Z",
          "iopub.status.idle": "2024-08-01T09:01:39.099383Z",
          "shell.execute_reply.started": "2024-08-01T09:01:39.046098Z",
          "shell.execute_reply": "2024-08-01T09:01:39.097642Z"
        },
        "trusted": true,
        "colab": {
          "base_uri": "https://localhost:8080/"
        }
      },
      "execution_count": null,
      "outputs": [
        {
          "output_type": "stream",
          "name": "stderr",
          "text": [
            "WARNING:tensorflow:From <ipython-input-2-96aa08269762>:3: is_gpu_available (from tensorflow.python.framework.test_util) is deprecated and will be removed in a future version.\n",
            "Instructions for updating:\n",
            "Use `tf.config.list_physical_devices('GPU')` instead.\n"
          ]
        },
        {
          "output_type": "stream",
          "name": "stdout",
          "text": [
            "Running on CPU\n"
          ]
        }
      ]
    },
    {
      "cell_type": "code",
      "source": [
        "import tensorflow as tf\n",
        "\n",
        "const = tf.constant(24)\n",
        "print(const)"
      ],
      "metadata": {
        "id": "PX7wOFcDfNug",
        "outputId": "c59def1e-3b91-4f72-b747-6b408c0bef78",
        "execution": {
          "iopub.status.busy": "2024-08-01T09:01:39.100847Z",
          "iopub.execute_input": "2024-08-01T09:01:39.101305Z",
          "iopub.status.idle": "2024-08-01T09:01:39.107958Z",
          "shell.execute_reply.started": "2024-08-01T09:01:39.101257Z",
          "shell.execute_reply": "2024-08-01T09:01:39.106697Z"
        },
        "trusted": true,
        "colab": {
          "base_uri": "https://localhost:8080/"
        }
      },
      "execution_count": null,
      "outputs": [
        {
          "output_type": "stream",
          "name": "stdout",
          "text": [
            "tf.Tensor(24, shape=(), dtype=int32)\n"
          ]
        }
      ]
    },
    {
      "cell_type": "code",
      "source": [
        "import tensorflow as tf\n",
        "\n",
        "f1 = tf.Variable(54.0)\n",
        "print(f1)"
      ],
      "metadata": {
        "id": "4wiyBmFkhssH",
        "outputId": "686963ec-ad20-4e59-ff7b-90589486ff2c",
        "execution": {
          "iopub.status.busy": "2024-08-01T09:01:39.110900Z",
          "iopub.execute_input": "2024-08-01T09:01:39.111392Z",
          "iopub.status.idle": "2024-08-01T09:01:39.122005Z",
          "shell.execute_reply.started": "2024-08-01T09:01:39.111296Z",
          "shell.execute_reply": "2024-08-01T09:01:39.120735Z"
        },
        "trusted": true,
        "colab": {
          "base_uri": "https://localhost:8080/"
        }
      },
      "execution_count": null,
      "outputs": [
        {
          "output_type": "stream",
          "name": "stdout",
          "text": [
            "<tf.Variable 'Variable:0' shape=() dtype=float32, numpy=54.0>\n"
          ]
        }
      ]
    },
    {
      "cell_type": "markdown",
      "source": [
        "varaibles in Tensorflow"
      ],
      "metadata": {
        "id": "C3-jGVHUp093"
      }
    },
    {
      "cell_type": "code",
      "source": [
        "#default int type is tf.int32, float is tf.float32\n",
        "t0 = 24                # python variable\n",
        "t1 = tf.Variable(42)   # tensor variable\n",
        "t2 = tf.Variable(89.)  # tensor variable\n",
        "t4 = tf.Variable([[1,2],[3,4]])\n",
        "t3 = tf.Variable([ [ [0., 1., 2.], [3., 4., 5.] ], [ [6., 7., 8.], [9., 10., 11.] ] ]) # tensor variable\n",
        "print(t0)\n",
        "print(t1)\n",
        "print(t2)\n",
        "print(t3)\n",
        "print(t4)"
      ],
      "metadata": {
        "id": "TyP7tGg5p6kK",
        "outputId": "f38329d2-ecf9-495f-9f98-192857e56b1c",
        "execution": {
          "iopub.status.busy": "2024-08-01T09:01:39.124038Z",
          "iopub.execute_input": "2024-08-01T09:01:39.124405Z",
          "iopub.status.idle": "2024-08-01T09:01:39.141262Z",
          "shell.execute_reply.started": "2024-08-01T09:01:39.124354Z",
          "shell.execute_reply": "2024-08-01T09:01:39.139744Z"
        },
        "trusted": true,
        "colab": {
          "base_uri": "https://localhost:8080/"
        }
      },
      "execution_count": null,
      "outputs": [
        {
          "output_type": "stream",
          "name": "stdout",
          "text": [
            "24\n",
            "<tf.Variable 'Variable:0' shape=() dtype=int32, numpy=42>\n",
            "<tf.Variable 'Variable:0' shape=() dtype=float32, numpy=89.0>\n",
            "<tf.Variable 'Variable:0' shape=(2, 2, 3) dtype=float32, numpy=\n",
            "array([[[ 0.,  1.,  2.],\n",
            "        [ 3.,  4.,  5.]],\n",
            "\n",
            "       [[ 6.,  7.,  8.],\n",
            "        [ 9., 10., 11.]]], dtype=float32)>\n",
            "<tf.Variable 'Variable:0' shape=(2, 2) dtype=int32, numpy=\n",
            "array([[1, 2],\n",
            "       [3, 4]], dtype=int32)>\n"
          ]
        }
      ]
    },
    {
      "cell_type": "code",
      "source": [
        "t = tf.Variable([1,2,3,4])\n",
        "tf.rank(t)"
      ],
      "metadata": {
        "id": "gFaSH3VPrN6v",
        "outputId": "f81ca1ef-6fff-4747-ce8e-14362eb9bdad",
        "execution": {
          "iopub.status.busy": "2024-08-01T09:01:39.143005Z",
          "iopub.execute_input": "2024-08-01T09:01:39.143551Z",
          "iopub.status.idle": "2024-08-01T09:01:39.158008Z",
          "shell.execute_reply.started": "2024-08-01T09:01:39.143485Z",
          "shell.execute_reply": "2024-08-01T09:01:39.156400Z"
        },
        "trusted": true,
        "colab": {
          "base_uri": "https://localhost:8080/"
        }
      },
      "execution_count": null,
      "outputs": [
        {
          "output_type": "execute_result",
          "data": {
            "text/plain": [
              "<tf.Tensor: shape=(), dtype=int32, numpy=1>"
            ]
          },
          "metadata": {},
          "execution_count": 6
        }
      ]
    },
    {
      "cell_type": "code",
      "source": [
        "t = tf.Variable([1,2],[3,4])\n",
        "tf.rank(t)"
      ],
      "metadata": {
        "id": "O9jxDNNysJ_0",
        "outputId": "b45e488d-365d-42fa-e1ee-3c54e5175c60",
        "execution": {
          "iopub.status.busy": "2024-08-01T09:01:39.159918Z",
          "iopub.execute_input": "2024-08-01T09:01:39.160337Z",
          "iopub.status.idle": "2024-08-01T09:01:39.174882Z",
          "shell.execute_reply.started": "2024-08-01T09:01:39.160301Z",
          "shell.execute_reply": "2024-08-01T09:01:39.173536Z"
        },
        "trusted": true,
        "colab": {
          "base_uri": "https://localhost:8080/"
        }
      },
      "execution_count": null,
      "outputs": [
        {
          "output_type": "execute_result",
          "data": {
            "text/plain": [
              "<tf.Tensor: shape=(), dtype=int32, numpy=1>"
            ]
          },
          "metadata": {},
          "execution_count": 7
        }
      ]
    },
    {
      "cell_type": "code",
      "source": [
        "f1 = tf.Variable(54.)\n",
        "f1.assign(38.)     #This operation outputs a Tensor that holds the new value of ref after the value has been assigned.\n",
        "print(f1)"
      ],
      "metadata": {
        "id": "sOFwCphErkIL",
        "outputId": "11ef5e4d-0e5d-440e-9bcf-f62061d602db",
        "execution": {
          "iopub.status.busy": "2024-08-01T09:01:39.176748Z",
          "iopub.execute_input": "2024-08-01T09:01:39.177129Z",
          "iopub.status.idle": "2024-08-01T09:01:39.188496Z",
          "shell.execute_reply.started": "2024-08-01T09:01:39.177088Z",
          "shell.execute_reply": "2024-08-01T09:01:39.187147Z"
        },
        "trusted": true,
        "colab": {
          "base_uri": "https://localhost:8080/"
        }
      },
      "execution_count": null,
      "outputs": [
        {
          "output_type": "stream",
          "name": "stdout",
          "text": [
            "<tf.Variable 'Variable:0' shape=() dtype=float32, numpy=38.0>\n"
          ]
        }
      ]
    },
    {
      "cell_type": "code",
      "source": [
        "d = tf.Variable(12, dtype = tf.float64) #change default data type\n",
        "print(d.dtype)"
      ],
      "metadata": {
        "id": "iYm1RQ0AsB5Y",
        "outputId": "d7f7926e-ba52-49ee-855d-76ef7cb03232",
        "execution": {
          "iopub.status.busy": "2024-08-01T09:01:39.189995Z",
          "iopub.execute_input": "2024-08-01T09:01:39.190554Z",
          "iopub.status.idle": "2024-08-01T09:01:39.202052Z",
          "shell.execute_reply.started": "2024-08-01T09:01:39.190498Z",
          "shell.execute_reply": "2024-08-01T09:01:39.200784Z"
        },
        "trusted": true,
        "colab": {
          "base_uri": "https://localhost:8080/"
        }
      },
      "execution_count": null,
      "outputs": [
        {
          "output_type": "stream",
          "name": "stdout",
          "text": [
            "<dtype: 'float64'>\n"
          ]
        }
      ]
    },
    {
      "cell_type": "code",
      "source": [
        "#constants\n",
        "con=tf.constant(24)\n",
        "print(con)\n",
        "#print(con.dtype)\n",
        "con.numpy() #converting tensor into numpy variable"
      ],
      "metadata": {
        "id": "pO2vtOjCsqxE",
        "outputId": "b3645ef5-e01f-4382-b773-d094a5706107",
        "execution": {
          "iopub.status.busy": "2024-08-01T09:01:39.206374Z",
          "iopub.execute_input": "2024-08-01T09:01:39.206829Z",
          "iopub.status.idle": "2024-08-01T09:01:39.216941Z",
          "shell.execute_reply.started": "2024-08-01T09:01:39.206785Z",
          "shell.execute_reply": "2024-08-01T09:01:39.215296Z"
        },
        "trusted": true,
        "colab": {
          "base_uri": "https://localhost:8080/"
        }
      },
      "execution_count": null,
      "outputs": [
        {
          "output_type": "stream",
          "name": "stdout",
          "text": [
            "tf.Tensor(24, shape=(), dtype=int32)\n"
          ]
        },
        {
          "output_type": "execute_result",
          "data": {
            "text/plain": [
              "24"
            ]
          },
          "metadata": {},
          "execution_count": 10
        }
      ]
    },
    {
      "cell_type": "code",
      "source": [
        "d1=tf.constant(1, dtype = tf.int64)\n",
        "print(d1)"
      ],
      "metadata": {
        "id": "aiFRGTS_vDr4",
        "outputId": "fd9e8947-adc4-4536-acf9-6f3a1f64fdad",
        "execution": {
          "iopub.status.busy": "2024-08-01T09:01:39.218485Z",
          "iopub.execute_input": "2024-08-01T09:01:39.218947Z",
          "iopub.status.idle": "2024-08-01T09:01:39.228126Z",
          "shell.execute_reply.started": "2024-08-01T09:01:39.218909Z",
          "shell.execute_reply": "2024-08-01T09:01:39.226887Z"
        },
        "trusted": true,
        "colab": {
          "base_uri": "https://localhost:8080/"
        }
      },
      "execution_count": null,
      "outputs": [
        {
          "output_type": "stream",
          "name": "stdout",
          "text": [
            "tf.Tensor(1, shape=(), dtype=int64)\n"
          ]
        }
      ]
    },
    {
      "cell_type": "markdown",
      "source": [
        "rank (dimensions) of a tensor"
      ],
      "metadata": {
        "id": "8VlxyhnEvcjQ"
      }
    },
    {
      "cell_type": "code",
      "source": [
        "print(tf.rank(t3))\n",
        "#The rank of a tensor is the number of indices required to uniquely select each element of the tensor.\n",
        "# Rank is also known as \"order\", \"degree\", or \"ndims.\"\n",
        "print(tf.rank(t3).numpy())"
      ],
      "metadata": {
        "id": "JbibuY5wvn_0",
        "outputId": "9ff367a6-2a71-41c2-c110-afbb3ad2df7c",
        "execution": {
          "iopub.status.busy": "2024-08-01T09:01:39.229471Z",
          "iopub.execute_input": "2024-08-01T09:01:39.229950Z",
          "iopub.status.idle": "2024-08-01T09:01:39.243242Z",
          "shell.execute_reply.started": "2024-08-01T09:01:39.229913Z",
          "shell.execute_reply": "2024-08-01T09:01:39.241505Z"
        },
        "trusted": true,
        "colab": {
          "base_uri": "https://localhost:8080/"
        }
      },
      "execution_count": null,
      "outputs": [
        {
          "output_type": "stream",
          "name": "stdout",
          "text": [
            "tf.Tensor(3, shape=(), dtype=int32)\n",
            "3\n"
          ]
        }
      ]
    },
    {
      "cell_type": "markdown",
      "source": [
        "Reshape tensor"
      ],
      "metadata": {
        "id": "r49qc7iYw6-X"
      }
    },
    {
      "cell_type": "code",
      "source": [
        "t2 = tf.Variable([ [ [0., 1., 2.], [3., 4., 5.] ], [ [6., 7., 8.], [9., 10., 11.] ] ]) # tensor variable\n",
        "print(t2.shape)"
      ],
      "metadata": {
        "id": "6MMi5fqExBFT",
        "outputId": "6815aa92-1c8a-4556-f732-3c80c027a780",
        "execution": {
          "iopub.status.busy": "2024-08-01T09:01:39.244969Z",
          "iopub.execute_input": "2024-08-01T09:01:39.245483Z",
          "iopub.status.idle": "2024-08-01T09:01:39.255419Z",
          "shell.execute_reply.started": "2024-08-01T09:01:39.245433Z",
          "shell.execute_reply": "2024-08-01T09:01:39.254179Z"
        },
        "trusted": true,
        "colab": {
          "base_uri": "https://localhost:8080/"
        }
      },
      "execution_count": null,
      "outputs": [
        {
          "output_type": "stream",
          "name": "stdout",
          "text": [
            "(2, 2, 3)\n"
          ]
        }
      ]
    },
    {
      "cell_type": "code",
      "source": [
        "a1 = tf.reshape(t2,[2,6]) # 2 rows 6 cols\n",
        "#reshape method in tensor\n",
        "a2 = tf.reshape(t2,[1,12]) # 1 rows 12 cols"
      ],
      "metadata": {
        "id": "ST4Fr6uBxIMw",
        "execution": {
          "iopub.status.busy": "2024-08-01T09:01:39.256849Z",
          "iopub.execute_input": "2024-08-01T09:01:39.257256Z",
          "iopub.status.idle": "2024-08-01T09:01:39.271071Z",
          "shell.execute_reply.started": "2024-08-01T09:01:39.257223Z",
          "shell.execute_reply": "2024-08-01T09:01:39.269571Z"
        },
        "trusted": true
      },
      "execution_count": null,
      "outputs": []
    },
    {
      "cell_type": "code",
      "source": [
        "print(a1)\n",
        "print(a2)"
      ],
      "metadata": {
        "id": "nZABiUSVwUxu",
        "outputId": "f79983d8-afb8-491d-ec3f-c390df58bdab",
        "execution": {
          "iopub.status.busy": "2024-08-01T09:01:39.274427Z",
          "iopub.execute_input": "2024-08-01T09:01:39.276189Z",
          "iopub.status.idle": "2024-08-01T09:01:39.303126Z",
          "shell.execute_reply.started": "2024-08-01T09:01:39.276124Z",
          "shell.execute_reply": "2024-08-01T09:01:39.301944Z"
        },
        "trusted": true,
        "colab": {
          "base_uri": "https://localhost:8080/"
        }
      },
      "execution_count": null,
      "outputs": [
        {
          "output_type": "stream",
          "name": "stdout",
          "text": [
            "tf.Tensor(\n",
            "[[ 0.  1.  2.  3.  4.  5.]\n",
            " [ 6.  7.  8.  9. 10. 11.]], shape=(2, 6), dtype=float32)\n",
            "tf.Tensor([[ 0.  1.  2.  3.  4.  5.  6.  7.  8.  9. 10. 11.]], shape=(1, 12), dtype=float32)\n"
          ]
        }
      ]
    },
    {
      "cell_type": "markdown",
      "source": [
        "find size of tensor"
      ],
      "metadata": {
        "id": "yPPNVj3Lxos6"
      }
    },
    {
      "cell_type": "code",
      "source": [
        "s = tf.size(input=a2).numpy()\n",
        "#number of elements in tensor\n",
        "print(s)"
      ],
      "metadata": {
        "id": "nY1ft-E3xwb5",
        "outputId": "a3ff53e0-1f8e-4853-ef29-6f77840e9a27",
        "execution": {
          "iopub.status.busy": "2024-08-01T09:01:39.304379Z",
          "iopub.execute_input": "2024-08-01T09:01:39.304813Z",
          "iopub.status.idle": "2024-08-01T09:01:39.317053Z",
          "shell.execute_reply.started": "2024-08-01T09:01:39.304777Z",
          "shell.execute_reply": "2024-08-01T09:01:39.315774Z"
        },
        "trusted": true,
        "colab": {
          "base_uri": "https://localhost:8080/"
        }
      },
      "execution_count": null,
      "outputs": [
        {
          "output_type": "stream",
          "name": "stdout",
          "text": [
            "12\n"
          ]
        }
      ]
    },
    {
      "cell_type": "code",
      "source": [
        "#arithematic operations\n",
        "import tensorflow as tf\n",
        "#arithmetic operations\n",
        "print(tf.add(4,5))\n",
        "print(tf.add([1,2],[3,4]))\n",
        "print(tf.square(9))\n",
        "print(tf.reduce_sum([[6,4,4],[3,2,1],[8,1,2]]))#what is reduce_sum?\n",
        "print(tf.square(4)+tf.square(6))"
      ],
      "metadata": {
        "id": "rsWPOxrCp8Es",
        "outputId": "3bacc2b4-a81e-48e3-8271-c14cf2ce2f2a",
        "execution": {
          "iopub.status.busy": "2024-08-01T09:01:39.319226Z",
          "iopub.execute_input": "2024-08-01T09:01:39.319765Z",
          "iopub.status.idle": "2024-08-01T09:01:39.350643Z",
          "shell.execute_reply.started": "2024-08-01T09:01:39.319715Z",
          "shell.execute_reply": "2024-08-01T09:01:39.349439Z"
        },
        "trusted": true,
        "colab": {
          "base_uri": "https://localhost:8080/"
        }
      },
      "execution_count": null,
      "outputs": [
        {
          "output_type": "stream",
          "name": "stdout",
          "text": [
            "tf.Tensor(9, shape=(), dtype=int32)\n",
            "tf.Tensor([4 6], shape=(2,), dtype=int32)\n",
            "tf.Tensor(81, shape=(), dtype=int32)\n",
            "tf.Tensor(31, shape=(), dtype=int32)\n",
            "tf.Tensor(52, shape=(), dtype=int32)\n"
          ]
        }
      ]
    },
    {
      "cell_type": "markdown",
      "source": [
        "Casting tensor to numpy variable"
      ],
      "metadata": {
        "id": "uhhcDCppyarP"
      }
    },
    {
      "cell_type": "code",
      "source": [
        "print(t2.numpy())\n",
        "print(t2[1, 0, 2].numpy())   # slice 1, row 0, column 2\n",
        "#accessing elements from tensor\n",
        "print(t2.dtype)   #data type of a tensor"
      ],
      "metadata": {
        "id": "eXetAcUrycPQ",
        "outputId": "292bb82f-897a-49ed-88d5-0489895e6888",
        "execution": {
          "iopub.status.busy": "2024-08-01T09:01:39.352171Z",
          "iopub.execute_input": "2024-08-01T09:01:39.352625Z",
          "iopub.status.idle": "2024-08-01T09:01:39.372364Z",
          "shell.execute_reply.started": "2024-08-01T09:01:39.352581Z",
          "shell.execute_reply": "2024-08-01T09:01:39.370921Z"
        },
        "trusted": true,
        "colab": {
          "base_uri": "https://localhost:8080/"
        }
      },
      "execution_count": null,
      "outputs": [
        {
          "output_type": "stream",
          "name": "stdout",
          "text": [
            "[[[ 0.  1.  2.]\n",
            "  [ 3.  4.  5.]]\n",
            "\n",
            " [[ 6.  7.  8.]\n",
            "  [ 9. 10. 11.]]]\n",
            "8.0\n",
            "<dtype: 'float32'>\n"
          ]
        }
      ]
    },
    {
      "cell_type": "markdown",
      "source": [
        "\n",
        "element wise multiplication with overloaded operator\n"
      ],
      "metadata": {
        "id": "jbVdFowazi5K"
      }
    },
    {
      "cell_type": "code",
      "source": [
        "print(t2*t2)"
      ],
      "metadata": {
        "id": "zIuZXwh5znhu",
        "outputId": "6fad7999-5768-4a3d-ff37-a9e183fef007",
        "execution": {
          "iopub.status.busy": "2024-08-01T09:01:39.374466Z",
          "iopub.execute_input": "2024-08-01T09:01:39.375128Z",
          "iopub.status.idle": "2024-08-01T09:01:39.387210Z",
          "shell.execute_reply.started": "2024-08-01T09:01:39.375076Z",
          "shell.execute_reply": "2024-08-01T09:01:39.385853Z"
        },
        "trusted": true,
        "colab": {
          "base_uri": "https://localhost:8080/"
        }
      },
      "execution_count": null,
      "outputs": [
        {
          "output_type": "stream",
          "name": "stdout",
          "text": [
            "tf.Tensor(\n",
            "[[[  0.   1.   4.]\n",
            "  [  9.  16.  25.]]\n",
            "\n",
            " [[ 36.  49.  64.]\n",
            "  [ 81. 100. 121.]]], shape=(2, 2, 3), dtype=float32)\n"
          ]
        }
      ]
    },
    {
      "cell_type": "code",
      "source": [
        "#Tensorflow variables broadcasting\n",
        "b1 = t2*3\n",
        "print(b1)"
      ],
      "metadata": {
        "id": "B-5td8zKz6tx",
        "outputId": "b4bfa63f-f169-411f-d0d0-0c31d7569b2f",
        "execution": {
          "iopub.status.busy": "2024-08-01T09:01:39.388876Z",
          "iopub.execute_input": "2024-08-01T09:01:39.389257Z",
          "iopub.status.idle": "2024-08-01T09:01:39.399014Z",
          "shell.execute_reply.started": "2024-08-01T09:01:39.389223Z",
          "shell.execute_reply": "2024-08-01T09:01:39.397481Z"
        },
        "trusted": true,
        "colab": {
          "base_uri": "https://localhost:8080/"
        }
      },
      "execution_count": null,
      "outputs": [
        {
          "output_type": "stream",
          "name": "stdout",
          "text": [
            "tf.Tensor(\n",
            "[[[ 0.  3.  6.]\n",
            "  [ 9. 12. 15.]]\n",
            "\n",
            " [[18. 21. 24.]\n",
            "  [27. 30. 33.]]], shape=(2, 2, 3), dtype=float32)\n"
          ]
        }
      ]
    },
    {
      "cell_type": "markdown",
      "source": [
        "transpose of a matrix and matrix multiplication"
      ],
      "metadata": {
        "id": "aXFBscXe1EQc"
      }
    },
    {
      "cell_type": "markdown",
      "source": [],
      "metadata": {
        "id": "j9522_Z1sY5H"
      }
    },
    {
      "cell_type": "code",
      "source": [
        "x = tf.constant([[2,4,3]])\n",
        "y = tf.constant([[1,2,3]])\n",
        "print(x)\n",
        "print(y)\n",
        "z=tf.transpose(y)\n",
        "print(z)\n",
        "mul=tf.matmul(x,z)\n",
        "print(mul)"
      ],
      "metadata": {
        "id": "DSsGcTzI1Gm4",
        "outputId": "df65cc6b-7b04-403f-b05b-bafb94c8320e",
        "execution": {
          "iopub.status.busy": "2024-08-01T09:01:39.400818Z",
          "iopub.execute_input": "2024-08-01T09:01:39.401189Z",
          "iopub.status.idle": "2024-08-01T09:01:39.421898Z",
          "shell.execute_reply.started": "2024-08-01T09:01:39.401155Z",
          "shell.execute_reply": "2024-08-01T09:01:39.420478Z"
        },
        "trusted": true,
        "colab": {
          "base_uri": "https://localhost:8080/"
        }
      },
      "execution_count": null,
      "outputs": [
        {
          "output_type": "stream",
          "name": "stdout",
          "text": [
            "tf.Tensor([[2 4 3]], shape=(1, 3), dtype=int32)\n",
            "tf.Tensor([[1 2 3]], shape=(1, 3), dtype=int32)\n",
            "tf.Tensor(\n",
            "[[1]\n",
            " [2]\n",
            " [3]], shape=(3, 1), dtype=int32)\n",
            "tf.Tensor([[19]], shape=(1, 1), dtype=int32)\n"
          ]
        }
      ]
    },
    {
      "cell_type": "markdown",
      "source": [
        "Casting a tensor to another datatype"
      ],
      "metadata": {
        "id": "5PDOoyGa16AS"
      }
    },
    {
      "cell_type": "code",
      "source": [
        "print(x)"
      ],
      "metadata": {
        "id": "mjT2eogR17EX",
        "outputId": "cdf0d3eb-61f3-4dda-8610-8e007f13e5ad",
        "execution": {
          "iopub.status.busy": "2024-08-01T09:01:39.423357Z",
          "iopub.execute_input": "2024-08-01T09:01:39.423764Z",
          "iopub.status.idle": "2024-08-01T09:01:39.431408Z",
          "shell.execute_reply.started": "2024-08-01T09:01:39.423725Z",
          "shell.execute_reply": "2024-08-01T09:01:39.429041Z"
        },
        "trusted": true,
        "colab": {
          "base_uri": "https://localhost:8080/"
        }
      },
      "execution_count": null,
      "outputs": [
        {
          "output_type": "stream",
          "name": "stdout",
          "text": [
            "tf.Tensor([[2 4 3]], shape=(1, 3), dtype=int32)\n"
          ]
        }
      ]
    },
    {
      "cell_type": "code",
      "source": [
        " c= tf.cast(x, dtype=tf.float32)\n",
        " print(c)"
      ],
      "metadata": {
        "id": "KT94juJH2VTc",
        "outputId": "69d24f12-d280-4319-d3c5-bd5412c8a307",
        "execution": {
          "iopub.status.busy": "2024-08-01T09:01:39.432939Z",
          "iopub.execute_input": "2024-08-01T09:01:39.433907Z",
          "iopub.status.idle": "2024-08-01T09:01:39.449891Z",
          "shell.execute_reply.started": "2024-08-01T09:01:39.433831Z",
          "shell.execute_reply": "2024-08-01T09:01:39.448502Z"
        },
        "trusted": true,
        "colab": {
          "base_uri": "https://localhost:8080/"
        }
      },
      "execution_count": null,
      "outputs": [
        {
          "output_type": "stream",
          "name": "stdout",
          "text": [
            "tf.Tensor([[2. 4. 3.]], shape=(1, 3), dtype=float32)\n"
          ]
        }
      ]
    },
    {
      "cell_type": "code",
      "source": [
        "#adding tensors\n",
        "i=tf.Variable(12)\n",
        "j=tf.Variable(27)\n",
        "print(tf.add(i,j))"
      ],
      "metadata": {
        "id": "Rvd0SH2121Z3",
        "outputId": "e1580b2f-6c62-47f3-9bdd-7d310d44fc79",
        "execution": {
          "iopub.status.busy": "2024-08-01T09:01:39.451610Z",
          "iopub.execute_input": "2024-08-01T09:01:39.452115Z",
          "iopub.status.idle": "2024-08-01T09:01:39.464845Z",
          "shell.execute_reply.started": "2024-08-01T09:01:39.452064Z",
          "shell.execute_reply": "2024-08-01T09:01:39.463184Z"
        },
        "trusted": true,
        "colab": {
          "base_uri": "https://localhost:8080/"
        }
      },
      "execution_count": null,
      "outputs": [
        {
          "output_type": "stream",
          "name": "stdout",
          "text": [
            "tf.Tensor(39, shape=(), dtype=int32)\n"
          ]
        }
      ]
    },
    {
      "cell_type": "markdown",
      "source": [
        "Ragged Tensors"
      ],
      "metadata": {
        "id": "NyJ1P5oX3od-"
      }
    },
    {
      "cell_type": "code",
      "source": [
        "ragged =tf.ragged.constant([[1, 2, 6, 5], [], [7, 10, 8], [4], [9,7]])\n",
        "\n",
        "print(ragged)\n",
        "print(ragged[0,:])\n",
        "print(ragged[1,:])\n",
        "print(ragged[2,:])\n",
        "print(ragged[3,:])\n",
        "print(ragged[4,:])"
      ],
      "metadata": {
        "id": "dSnDpcBd3pb9",
        "outputId": "28a2bec3-33cc-45e4-cd9e-3fc61c8d8a49",
        "execution": {
          "iopub.status.busy": "2024-08-01T09:01:39.466561Z",
          "iopub.execute_input": "2024-08-01T09:01:39.467060Z",
          "iopub.status.idle": "2024-08-01T09:01:39.496866Z",
          "shell.execute_reply.started": "2024-08-01T09:01:39.467012Z",
          "shell.execute_reply": "2024-08-01T09:01:39.495737Z"
        },
        "trusted": true,
        "colab": {
          "base_uri": "https://localhost:8080/"
        }
      },
      "execution_count": null,
      "outputs": [
        {
          "output_type": "stream",
          "name": "stdout",
          "text": [
            "<tf.RaggedTensor [[1, 2, 6, 5], [], [7, 10, 8], [4], [9, 7]]>\n",
            "tf.Tensor([1 2 6 5], shape=(4,), dtype=int32)\n",
            "tf.Tensor([], shape=(0,), dtype=int32)\n",
            "tf.Tensor([ 7 10  8], shape=(3,), dtype=int32)\n",
            "tf.Tensor([4], shape=(1,), dtype=int32)\n",
            "tf.Tensor([9 7], shape=(2,), dtype=int32)\n"
          ]
        }
      ]
    },
    {
      "cell_type": "code",
      "source": [
        "print(tf.RaggedTensor.from_row_splits(values=[5, 2, 6, 1, 4, 10, 7, 8, 6, 7],row_splits=[0, 4, 4, 7, 8, 10]))"
      ],
      "metadata": {
        "id": "GRH0QZGn4sfW",
        "outputId": "c9f3665f-0fa9-4485-98b5-c5f67c4059ad",
        "execution": {
          "iopub.status.busy": "2024-08-01T09:01:39.498194Z",
          "iopub.execute_input": "2024-08-01T09:01:39.498548Z",
          "iopub.status.idle": "2024-08-01T09:01:39.526022Z",
          "shell.execute_reply.started": "2024-08-01T09:01:39.498516Z",
          "shell.execute_reply": "2024-08-01T09:01:39.524847Z"
        },
        "trusted": true,
        "colab": {
          "base_uri": "https://localhost:8080/"
        }
      },
      "execution_count": null,
      "outputs": [
        {
          "output_type": "stream",
          "name": "stdout",
          "text": [
            "<tf.RaggedTensor [[5, 2, 6, 1], [], [4, 10, 7], [8], [6, 7]]>\n"
          ]
        }
      ]
    },
    {
      "cell_type": "markdown",
      "source": [
        "useful TensorFlow functions"
      ],
      "metadata": {
        "id": "zXE2oG_B43dk"
      }
    },
    {
      "cell_type": "code",
      "source": [
        "x = [1,3,5,7,11]\n",
        "y = 5\n",
        "s = tf.math.squared_difference( x,  y) #() x-y)*(x-y) with broadcasting\n",
        "print(s)"
      ],
      "metadata": {
        "id": "bYKrHMGE44gq",
        "outputId": "afb32b6e-9f27-469c-c6a6-c6f7e01aca50",
        "execution": {
          "iopub.status.busy": "2024-08-01T09:01:39.527478Z",
          "iopub.execute_input": "2024-08-01T09:01:39.527966Z",
          "iopub.status.idle": "2024-08-01T09:01:39.538203Z",
          "shell.execute_reply.started": "2024-08-01T09:01:39.527924Z",
          "shell.execute_reply": "2024-08-01T09:01:39.536805Z"
        },
        "trusted": true,
        "colab": {
          "base_uri": "https://localhost:8080/"
        }
      },
      "execution_count": null,
      "outputs": [
        {
          "output_type": "stream",
          "name": "stdout",
          "text": [
            "tf.Tensor([16  4  0  4 36], shape=(5,), dtype=int32)\n"
          ]
        }
      ]
    },
    {
      "cell_type": "code",
      "source": [
        "#mean\n",
        "numbers = tf.constant([[3., 4.], [6., 9.]])\n",
        "print(tf.reduce_mean(input_tensor=numbers))"
      ],
      "metadata": {
        "id": "rt7HiYjk7y98",
        "outputId": "3e8ab975-cd0d-4d80-d9c7-d3fa44656795",
        "execution": {
          "iopub.status.busy": "2024-08-01T09:01:39.544341Z",
          "iopub.execute_input": "2024-08-01T09:01:39.544765Z",
          "iopub.status.idle": "2024-08-01T09:01:39.555922Z",
          "shell.execute_reply.started": "2024-08-01T09:01:39.544729Z",
          "shell.execute_reply": "2024-08-01T09:01:39.553972Z"
        },
        "trusted": true,
        "colab": {
          "base_uri": "https://localhost:8080/"
        }
      },
      "execution_count": null,
      "outputs": [
        {
          "output_type": "stream",
          "name": "stdout",
          "text": [
            "tf.Tensor(5.5, shape=(), dtype=float32)\n"
          ]
        }
      ]
    },
    {
      "cell_type": "code",
      "source": [
        "print(tf.reduce_mean(input_tensor=numbers, axis=0)) #Find mean across columns\n",
        "tf.reduce_mean(input_tensor=numbers, axis=0, keepdims=True)"
      ],
      "metadata": {
        "id": "2mwKQOIr9d3e",
        "outputId": "1bea0abd-1365-4611-cb31-a941322549c7",
        "execution": {
          "iopub.status.busy": "2024-08-01T09:01:39.558085Z",
          "iopub.execute_input": "2024-08-01T09:01:39.558749Z",
          "iopub.status.idle": "2024-08-01T09:01:39.569991Z",
          "shell.execute_reply.started": "2024-08-01T09:01:39.558698Z",
          "shell.execute_reply": "2024-08-01T09:01:39.568638Z"
        },
        "trusted": true,
        "colab": {
          "base_uri": "https://localhost:8080/"
        }
      },
      "execution_count": null,
      "outputs": [
        {
          "output_type": "stream",
          "name": "stdout",
          "text": [
            "tf.Tensor([4.5 6.5], shape=(2,), dtype=float32)\n"
          ]
        },
        {
          "output_type": "execute_result",
          "data": {
            "text/plain": [
              "<tf.Tensor: shape=(1, 2), dtype=float32, numpy=array([[4.5, 6.5]], dtype=float32)>"
            ]
          },
          "metadata": {},
          "execution_count": 29
        }
      ]
    },
    {
      "cell_type": "code",
      "source": [
        "#Find mean across rows\n",
        "print(tf.reduce_mean(input_tensor=numbers, axis=1))\n",
        "tf.reduce_mean(input_tensor=numbers, axis=1, keepdims=True)"
      ],
      "metadata": {
        "id": "W6jwybFXAW6G",
        "outputId": "d37402b6-f14f-471c-b432-1a5437acf3e0",
        "execution": {
          "iopub.status.busy": "2024-08-01T09:01:39.571805Z",
          "iopub.execute_input": "2024-08-01T09:01:39.572173Z",
          "iopub.status.idle": "2024-08-01T09:01:39.582715Z",
          "shell.execute_reply.started": "2024-08-01T09:01:39.572139Z",
          "shell.execute_reply": "2024-08-01T09:01:39.581562Z"
        },
        "trusted": true,
        "colab": {
          "base_uri": "https://localhost:8080/"
        }
      },
      "execution_count": null,
      "outputs": [
        {
          "output_type": "stream",
          "name": "stdout",
          "text": [
            "tf.Tensor([3.5 7.5], shape=(2,), dtype=float32)\n"
          ]
        },
        {
          "output_type": "execute_result",
          "data": {
            "text/plain": [
              "<tf.Tensor: shape=(2, 1), dtype=float32, numpy=\n",
              "array([[3.5],\n",
              "       [7.5]], dtype=float32)>"
            ]
          },
          "metadata": {},
          "execution_count": 30
        }
      ]
    },
    {
      "cell_type": "markdown",
      "source": [
        "Output a tensor of the given shape filled with values from a normal distribution."
      ],
      "metadata": {
        "id": "2TUqPqx7BHgR"
      }
    },
    {
      "cell_type": "code",
      "source": [
        "r=tf.random.normal(shape = (3,2), mean=10, stddev=2, dtype=tf.float32, seed=None,  name=None) #Outputs random values from a normal distribution\n",
        "print(r)"
      ],
      "metadata": {
        "id": "RXHMmHgVBIil",
        "outputId": "6ae2ee64-fc2c-4c64-d6f1-06df5da1dea5",
        "execution": {
          "iopub.status.busy": "2024-08-01T09:01:39.584218Z",
          "iopub.execute_input": "2024-08-01T09:01:39.584636Z",
          "iopub.status.idle": "2024-08-01T09:01:39.600069Z",
          "shell.execute_reply.started": "2024-08-01T09:01:39.584599Z",
          "shell.execute_reply": "2024-08-01T09:01:39.598410Z"
        },
        "trusted": true,
        "colab": {
          "base_uri": "https://localhost:8080/"
        }
      },
      "execution_count": null,
      "outputs": [
        {
          "output_type": "stream",
          "name": "stdout",
          "text": [
            "tf.Tensor(\n",
            "[[ 6.2103586  8.879451 ]\n",
            " [ 5.517803   8.184371 ]\n",
            " [12.425876  10.774782 ]], shape=(3, 2), dtype=float32)\n"
          ]
        }
      ]
    },
    {
      "cell_type": "code",
      "source": [
        "u=tf.random.uniform(shape = (2,4),  minval=0, maxval=None, dtype=tf.float32, seed=None,  name=None)\n",
        "#Outputs random values from a uniform distribution\n",
        "print(u)"
      ],
      "metadata": {
        "id": "twiRBXnlB3pi",
        "outputId": "9eac3003-7c66-4d9a-bcc7-f2b84f62bd16",
        "execution": {
          "iopub.status.busy": "2024-08-01T09:01:39.601694Z",
          "iopub.execute_input": "2024-08-01T09:01:39.602088Z",
          "iopub.status.idle": "2024-08-01T09:01:39.610028Z",
          "shell.execute_reply.started": "2024-08-01T09:01:39.602052Z",
          "shell.execute_reply": "2024-08-01T09:01:39.608753Z"
        },
        "trusted": true,
        "colab": {
          "base_uri": "https://localhost:8080/"
        }
      },
      "execution_count": null,
      "outputs": [
        {
          "output_type": "stream",
          "name": "stdout",
          "text": [
            "tf.Tensor(\n",
            "[[0.3241868  0.4402815  0.7927984  0.7863594 ]\n",
            " [0.01648772 0.6073545  0.4948573  0.12172747]], shape=(2, 4), dtype=float32)\n"
          ]
        }
      ]
    }
  ]
}